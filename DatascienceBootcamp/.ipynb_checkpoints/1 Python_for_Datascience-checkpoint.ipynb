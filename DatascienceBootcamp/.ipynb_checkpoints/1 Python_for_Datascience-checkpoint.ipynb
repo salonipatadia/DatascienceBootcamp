{
 "cells": [
  {
   "cell_type": "markdown",
   "metadata": {},
   "source": [
    "# Hi, I am a Markdown Cell.\n",
    "## I am not a code cell, I'm more of a text cell. I represent information, work like comments and guide the user through the code.\n",
    "### To make a markdown cell, go to \"Cell --> Cell Type --> Markdown\"\n",
    "\n",
    "To change the font size, use \"#\", \"##\", \"###\", \"####\"\n",
    "\n",
    "### To run a cell, click \"Shift + Enter\" or \"Run\"\n",
    "\n",
    "# ToDo: Create a markdown cell and write your name"
   ]
  },
  {
   "cell_type": "code",
   "execution_count": 1,
   "metadata": {},
   "outputs": [
    {
     "name": "stdout",
     "output_type": "stream",
     "text": [
      "Hello and Welcome to Datascience Bootcamp\n"
     ]
    }
   ],
   "source": [
    "print(\"Hello and Welcome to Datascience Bootcamp\") # a print statement is to output something on the screen"
   ]
  },
  {
   "cell_type": "markdown",
   "metadata": {},
   "source": [
    "# Basic Data Types"
   ]
  },
  {
   "cell_type": "code",
   "execution_count": 2,
   "metadata": {},
   "outputs": [
    {
     "name": "stdout",
     "output_type": "stream",
     "text": [
      "32\n",
      "<class 'int'>\n",
      "34\n",
      "<class 'int'>\n"
     ]
    }
   ],
   "source": [
    "print(32)\n",
    "print(type(32))\n",
    "\n",
    "# We can assign values to some alphanumeric charcters called variables.\n",
    "\n",
    "number = 34\n",
    "print(number)\n",
    "print(type(number))"
   ]
  },
  {
   "cell_type": "code",
   "execution_count": 3,
   "metadata": {},
   "outputs": [
    {
     "name": "stdout",
     "output_type": "stream",
     "text": [
      "45.78\n",
      "<class 'float'>\n"
     ]
    }
   ],
   "source": [
    "decimal_num = 45.78\n",
    "print(decimal_num)\n",
    "print(type(decimal_num))"
   ]
  },
  {
   "cell_type": "code",
   "execution_count": 4,
   "metadata": {},
   "outputs": [
    {
     "name": "stdout",
     "output_type": "stream",
     "text": [
      "Hi, I am a sentence\n",
      "<class 'str'>\n"
     ]
    }
   ],
   "source": [
    "characters = \"Hi, I am a sentence\"\n",
    "print(characters)\n",
    "print(type(characters))"
   ]
  },
  {
   "cell_type": "code",
   "execution_count": 5,
   "metadata": {},
   "outputs": [
    {
     "name": "stdout",
     "output_type": "stream",
     "text": [
      "True\n",
      "<class 'bool'>\n",
      "boolean2 =  False\n",
      "<class 'bool'>\n"
     ]
    }
   ],
   "source": [
    "boolean1 = True\n",
    "print(boolean1)\n",
    "print(type(boolean1))\n",
    "\n",
    "boolean2 = False\n",
    "print(\"boolean2 = \", boolean2)\n",
    "print(type(boolean2))"
   ]
  },
  {
   "cell_type": "markdown",
   "metadata": {},
   "source": [
    "# User input"
   ]
  },
  {
   "cell_type": "code",
   "execution_count": 6,
   "metadata": {},
   "outputs": [
    {
     "name": "stdout",
     "output_type": "stream",
     "text": [
      "Enter your name: utkarsh\n"
     ]
    }
   ],
   "source": [
    "an_input = input(\"Enter your name: \")"
   ]
  },
  {
   "cell_type": "code",
   "execution_count": 7,
   "metadata": {},
   "outputs": [
    {
     "name": "stdout",
     "output_type": "stream",
     "text": [
      "utkarsh\n"
     ]
    },
    {
     "data": {
      "text/plain": [
       "str"
      ]
     },
     "execution_count": 7,
     "metadata": {},
     "output_type": "execute_result"
    }
   ],
   "source": [
    "print(an_input)\n",
    "type(an_input)"
   ]
  },
  {
   "cell_type": "markdown",
   "metadata": {},
   "source": [
    "# Lists"
   ]
  },
  {
   "cell_type": "code",
   "execution_count": 9,
   "metadata": {},
   "outputs": [
    {
     "name": "stdout",
     "output_type": "stream",
     "text": [
      "[12, 23.5, 'kjsieit', True]\n",
      "<class 'list'>\n"
     ]
    }
   ],
   "source": [
    "list1 = [12, 23.5, 'kjsieit', True]\n",
    "print(list1)\n",
    "print(type(list1))"
   ]
  },
  {
   "cell_type": "code",
   "execution_count": 14,
   "metadata": {},
   "outputs": [
    {
     "name": "stdout",
     "output_type": "stream",
     "text": [
      "Number of items you want to shop: 4\n",
      "Enter what you want to buy: butter\n",
      "['butter']\n",
      "Enter what you want to buy: bread\n",
      "['butter', 'bread']\n",
      "Enter what you want to buy: knife\n",
      "['butter', 'bread', 'knife']\n",
      "Enter what you want to buy: butter\n",
      "['butter', 'bread', 'knife', 'butter']\n",
      "---------------------------------Done with the list of items!---------------------------------\n",
      "['butter', 'bread', 'knife', 'butter']\n"
     ]
    }
   ],
   "source": [
    "# let us create a list of items we want to shop today.\n",
    "shopitems = []\n",
    "maxLength = input(\"Number of items you want to shop: \")\n",
    "\n",
    "# maxLength =  int(maxLength) # uncomment this\n",
    "# this is called \"type-conversion\" as we are converting it from one form (str) to another (int)\n",
    "\n",
    "# a \"while\" statement is a loop, it goes on running until the condition inside is true. Once the condition bcomes false\n",
    "# you'll come out of the loop.\n",
    "\n",
    "# a \"len\" is used to check the length, i.e number of things inside. It is a natural number counting.\n",
    "while len(shopitems) < maxLength:\n",
    "    item = input(\"Enter what you want to buy: \")\n",
    "    shopitems.append(item)\n",
    "    print(shopitems)\n",
    "\n",
    "    \n",
    "print(\"---------------------------------Done with the list of items!---------------------------------\")\n",
    "print(shopitems)"
   ]
  },
  {
   "cell_type": "markdown",
   "metadata": {},
   "source": [
    "# Dictionary"
   ]
  },
  {
   "cell_type": "code",
   "execution_count": 15,
   "metadata": {},
   "outputs": [
    {
     "name": "stdout",
     "output_type": "stream",
     "text": [
      "{'Mumbai': 'Gateway of India', 'Pi': 3.1415, 0: 'whole number'}\n",
      "<class 'dict'>\n"
     ]
    }
   ],
   "source": [
    "dict1 = {\"Mumbai\":\"Gateway of India\", \"Pi\":3.1415, 0:\"whole number\"}\n",
    "print(dict1)\n",
    "print(type(dict1))"
   ]
  },
  {
   "cell_type": "code",
   "execution_count": 25,
   "metadata": {},
   "outputs": [
    {
     "name": "stdout",
     "output_type": "stream",
     "text": [
      "Number of items you want to shop: 2\n",
      "Enter the name of person: Mummy\n",
      "Enter the item name: Bread, Butter\n",
      "{'Mummy': 'Bread, Butter'}\n",
      "\n",
      "\n",
      "Enter the name of person: Dad\n",
      "Enter the item name: Notebook, 3 Pens, Bag\n",
      "{'Mummy': 'Bread, Butter', 'Dad': 'Notebook, 3 Pens, Bag'}\n",
      "\n",
      "\n",
      "---------------------------------Done with the dictionary of items!---------------------------------\n",
      "shopitems= {'Mummy': 'Bread, Butter', 'Dad': 'Notebook, 3 Pens, Bag'} \n",
      "\n",
      "dict_keys(['Mummy', 'Dad'])\n",
      "dict_values(['Bread, Butter', 'Notebook, 3 Pens, Bag'])\n"
     ]
    }
   ],
   "source": [
    "shopitems = {}\n",
    "maxLength = int(input(\"Number of items you want to shop: \"))\n",
    "while len(shopitems) < maxLength:\n",
    "    key = input(\"Enter the name of person: \")\n",
    "    value = input(\"Enter the item name: \")\n",
    "    shopitems[key] = value\n",
    "    print(shopitems)\n",
    "    print(\"\\n\") # \"\\n\" is an escape character. It takes the cursor to a new line\n",
    "\n",
    "print(\"---------------------------------Done with the dictionary of items!---------------------------------\")\n",
    "print(\"shopitems=\", shopitems, \"\\n\")\n",
    "print(shopitems.keys())\n",
    "print(shopitems.values())\n",
    "\n",
    "\n",
    "# ToDo: \n",
    "# 1) What do you think will be the length of dictionary?\n",
    "# 2) What is the type of keys and values?\n",
    "# 3) What more can be improved in this?"
   ]
  },
  {
   "cell_type": "markdown",
   "metadata": {},
   "source": [
    "# Tuples\n",
    "\n",
    "### A Tuple is a collection of Python objects separated by commas. A tuple is nearly similar to a list in terms of indexing, nested objects and repetition but a tuple is \"immutable\" unlike lists which are mutable."
   ]
  },
  {
   "cell_type": "code",
   "execution_count": 28,
   "metadata": {},
   "outputs": [
    {
     "name": "stdout",
     "output_type": "stream",
     "text": [
      "('A', 'G', 'E', 'N', 'T', 4, 7)\n",
      "<class 'tuple'>\n"
     ]
    }
   ],
   "source": [
    "tuple1 = ('A', 'G', 'E', 'N', 'T', 4, 7)\n",
    "print(tuple1)\n",
    "print(type(tuple1))"
   ]
  },
  {
   "cell_type": "code",
   "execution_count": 29,
   "metadata": {},
   "outputs": [
    {
     "name": "stdout",
     "output_type": "stream",
     "text": [
      "A ::: <class 'str'>\n",
      "G ::: <class 'str'>\n",
      "E ::: <class 'str'>\n",
      "N ::: <class 'str'>\n",
      "T ::: <class 'str'>\n",
      "4 ::: <class 'int'>\n",
      "7 ::: <class 'int'>\n"
     ]
    }
   ],
   "source": [
    "for i in tuple1:\n",
    "    print(i, \":::\", type(i))"
   ]
  },
  {
   "cell_type": "markdown",
   "metadata": {},
   "source": [
    "### Tuples are immutable lists. It means, you cannot add anything to them once they have been created. You cannot even delete items from a tuple"
   ]
  },
  {
   "cell_type": "markdown",
   "metadata": {},
   "source": [
    "# Sets\n",
    "\n",
    "### A Set is an unordered collection data type that is iterable, mutable, and has no duplicate elements."
   ]
  },
  {
   "cell_type": "code",
   "execution_count": 37,
   "metadata": {},
   "outputs": [
    {
     "name": "stdout",
     "output_type": "stream",
     "text": [
      "Length of list1 =  8\n",
      "set1 =  {False, True, 'kjsieit', 456, 12, 23.5}\n",
      "Length of set1 =  6\n"
     ]
    }
   ],
   "source": [
    "list1 = [12, 23.5, 'kjsieit',True, False, True, 12, 456]\n",
    "print(\"Length of list1 = \", len(list1))\n",
    "# let us now convert list1 to set\n",
    "set1 = set(list1)\n",
    "print(\"set1 = \", set1)\n",
    "print(\"Length of set1 = \", len(set1))"
   ]
  },
  {
   "cell_type": "code",
   "execution_count": 41,
   "metadata": {},
   "outputs": [
    {
     "name": "stdout",
     "output_type": "stream",
     "text": [
      "['__add__', '__class__', '__contains__', '__delattr__', '__delitem__', '__dir__', '__doc__', '__eq__', '__format__', '__ge__', '__getattribute__', '__getitem__', '__gt__', '__hash__', '__iadd__', '__imul__', '__init__', '__init_subclass__', '__iter__', '__le__', '__len__', '__lt__', '__mul__', '__ne__', '__new__', '__reduce__', '__reduce_ex__', '__repr__', '__reversed__', '__rmul__', '__setattr__', '__setitem__', '__sizeof__', '__str__', '__subclasshook__', 'append', 'clear', 'copy', 'count', 'extend', 'index', 'insert', 'pop', 'remove', 'reverse', 'sort']\n"
     ]
    }
   ],
   "source": [
    "# To find all the methods associated with any data-type, use \"dir\" keyword.\n",
    "print(dir(list1))"
   ]
  },
  {
   "cell_type": "code",
   "execution_count": 42,
   "metadata": {},
   "outputs": [
    {
     "name": "stdout",
     "output_type": "stream",
     "text": [
      "['__class__', '__contains__', '__delattr__', '__delitem__', '__dir__', '__doc__', '__eq__', '__format__', '__ge__', '__getattribute__', '__getitem__', '__gt__', '__hash__', '__init__', '__init_subclass__', '__iter__', '__le__', '__len__', '__lt__', '__ne__', '__new__', '__reduce__', '__reduce_ex__', '__repr__', '__setattr__', '__setitem__', '__sizeof__', '__str__', '__subclasshook__', 'clear', 'copy', 'fromkeys', 'get', 'items', 'keys', 'pop', 'popitem', 'setdefault', 'update', 'values']\n"
     ]
    }
   ],
   "source": [
    "print(dir(dict1))"
   ]
  },
  {
   "cell_type": "markdown",
   "metadata": {},
   "source": [
    "## Indexing"
   ]
  },
  {
   "cell_type": "code",
   "execution_count": 44,
   "metadata": {},
   "outputs": [
    {
     "name": "stdout",
     "output_type": "stream",
     "text": [
      "m\n"
     ]
    }
   ],
   "source": [
    "aString = \"Welcome to KJSIEIT\"\n",
    "print(aString[5])\n"
   ]
  },
  {
   "cell_type": "code",
   "execution_count": 57,
   "metadata": {},
   "outputs": [
    {
     "name": "stdout",
     "output_type": "stream",
     "text": [
      "[89.05, 'Sion', 90, 367347]\n"
     ]
    }
   ],
   "source": [
    "aList = [45, 67, 89.05, \"Sion\", 90, 367347, 237, \"hello world!\"]\n",
    "print(aList[2:6])"
   ]
  },
  {
   "cell_type": "code",
   "execution_count": 58,
   "metadata": {},
   "outputs": [
    {
     "name": "stdout",
     "output_type": "stream",
     "text": [
      "(1, 3, 5, 7, 9, 11, 13, 15)\n"
     ]
    }
   ],
   "source": [
    "aTuple = (1, 2, 3, 4, 5, 6, 7, 8, 9, 10, 11, 12, 13, 14, 15)\n",
    "print(aTuple[0:15:2])"
   ]
  },
  {
   "cell_type": "code",
   "execution_count": 59,
   "metadata": {},
   "outputs": [
    {
     "name": "stdout",
     "output_type": "stream",
     "text": [
      "(1, 3, 5, 7, 9, 11, 13, 15)\n"
     ]
    }
   ],
   "source": [
    "print(aTuple[::2])"
   ]
  },
  {
   "cell_type": "code",
   "execution_count": 64,
   "metadata": {},
   "outputs": [
    {
     "name": "stdout",
     "output_type": "stream",
     "text": [
      "(15, 14, 13, 12, 11, 10, 9, 8, 7, 6, 5, 4, 3, 2, 1)\n"
     ]
    }
   ],
   "source": [
    "print(aTuple[::-1])"
   ]
  },
  {
   "cell_type": "code",
   "execution_count": null,
   "metadata": {},
   "outputs": [],
   "source": [
    "# ToDo\n",
    "\n",
    "## Create a program that accepts user input of "
   ]
  },
  {
   "cell_type": "code",
   "execution_count": null,
   "metadata": {},
   "outputs": [],
   "source": []
  }
 ],
 "metadata": {
  "kernelspec": {
   "display_name": "Python 3",
   "language": "python",
   "name": "python3"
  },
  "language_info": {
   "codemirror_mode": {
    "name": "ipython",
    "version": 3
   },
   "file_extension": ".py",
   "mimetype": "text/x-python",
   "name": "python",
   "nbconvert_exporter": "python",
   "pygments_lexer": "ipython3",
   "version": "3.6.6"
  }
 },
 "nbformat": 4,
 "nbformat_minor": 2
}
